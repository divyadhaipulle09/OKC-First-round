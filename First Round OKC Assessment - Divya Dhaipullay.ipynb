{
 "cells": [
  {
   "cell_type": "code",
   "execution_count": 1,
   "id": "f767b093",
   "metadata": {},
   "outputs": [],
   "source": [
    "import pandas as pd\n",
    "from numpy import sqrt "
   ]
  },
  {
   "cell_type": "code",
   "execution_count": 2,
   "id": "49f8b952",
   "metadata": {},
   "outputs": [
    {
     "data": {
      "text/html": [
       "<div>\n",
       "<style scoped>\n",
       "    .dataframe tbody tr th:only-of-type {\n",
       "        vertical-align: middle;\n",
       "    }\n",
       "\n",
       "    .dataframe tbody tr th {\n",
       "        vertical-align: top;\n",
       "    }\n",
       "\n",
       "    .dataframe thead th {\n",
       "        text-align: right;\n",
       "    }\n",
       "</style>\n",
       "<table border=\"1\" class=\"dataframe\">\n",
       "  <thead>\n",
       "    <tr style=\"text-align: right;\">\n",
       "      <th></th>\n",
       "      <th>team</th>\n",
       "      <th>x</th>\n",
       "      <th>y</th>\n",
       "      <th>fgmade</th>\n",
       "    </tr>\n",
       "  </thead>\n",
       "  <tbody>\n",
       "    <tr>\n",
       "      <th>0</th>\n",
       "      <td>Team A</td>\n",
       "      <td>-5.0</td>\n",
       "      <td>26.4</td>\n",
       "      <td>0</td>\n",
       "    </tr>\n",
       "    <tr>\n",
       "      <th>1</th>\n",
       "      <td>Team A</td>\n",
       "      <td>-0.8</td>\n",
       "      <td>1.2</td>\n",
       "      <td>1</td>\n",
       "    </tr>\n",
       "    <tr>\n",
       "      <th>2</th>\n",
       "      <td>Team A</td>\n",
       "      <td>-13.9</td>\n",
       "      <td>9.5</td>\n",
       "      <td>1</td>\n",
       "    </tr>\n",
       "    <tr>\n",
       "      <th>3</th>\n",
       "      <td>Team A</td>\n",
       "      <td>-5.4</td>\n",
       "      <td>26.2</td>\n",
       "      <td>0</td>\n",
       "    </tr>\n",
       "    <tr>\n",
       "      <th>4</th>\n",
       "      <td>Team A</td>\n",
       "      <td>-4.9</td>\n",
       "      <td>14.5</td>\n",
       "      <td>1</td>\n",
       "    </tr>\n",
       "  </tbody>\n",
       "</table>\n",
       "</div>"
      ],
      "text/plain": [
       "     team     x     y  fgmade\n",
       "0  Team A  -5.0  26.4       0\n",
       "1  Team A  -0.8   1.2       1\n",
       "2  Team A -13.9   9.5       1\n",
       "3  Team A  -5.4  26.2       0\n",
       "4  Team A  -4.9  14.5       1"
      ]
     },
     "execution_count": 2,
     "metadata": {},
     "output_type": "execute_result"
    }
   ],
   "source": [
    "df = pd.read_csv('shots_data.csv')\n",
    "df.head()"
   ]
  },
  {
   "cell_type": "code",
   "execution_count": 3,
   "id": "3faeb931-1146-49ea-930f-e43ad9212b72",
   "metadata": {},
   "outputs": [],
   "source": [
    "y = df.y\n",
    "x = df.x\n",
    "df.loc[(y<= 7.8) & (abs(x) <= 22) , 'SD'] = '2PT'\n",
    "df.loc[(y<= 7.8) & (abs(x) > 22) , 'SD'] = 'C3'\n",
    "df.loc[(y> 7.8) & (sqrt(x ** 2 + y** 2) <= 23.75) , 'SD'] = '2PT'\n",
    "df.loc[(y> 7.8) & (sqrt(x ** 2 + y** 2) > 23.75) , 'SD'] = 'NC3'\n",
    "df.loc[(y> 7.8) & (abs(x) > 22) , 'SD'] = 'NC3'"
   ]
  },
  {
   "cell_type": "code",
   "execution_count": 4,
   "id": "89c497fe",
   "metadata": {},
   "outputs": [
    {
     "data": {
      "text/html": [
       "<div>\n",
       "<style scoped>\n",
       "    .dataframe tbody tr th:only-of-type {\n",
       "        vertical-align: middle;\n",
       "    }\n",
       "\n",
       "    .dataframe tbody tr th {\n",
       "        vertical-align: top;\n",
       "    }\n",
       "\n",
       "    .dataframe thead th {\n",
       "        text-align: right;\n",
       "    }\n",
       "</style>\n",
       "<table border=\"1\" class=\"dataframe\">\n",
       "  <thead>\n",
       "    <tr style=\"text-align: right;\">\n",
       "      <th></th>\n",
       "      <th>team</th>\n",
       "      <th>x</th>\n",
       "      <th>y</th>\n",
       "      <th>fgmade</th>\n",
       "      <th>SD</th>\n",
       "    </tr>\n",
       "  </thead>\n",
       "  <tbody>\n",
       "    <tr>\n",
       "      <th>0</th>\n",
       "      <td>Team A</td>\n",
       "      <td>-5.0</td>\n",
       "      <td>26.4</td>\n",
       "      <td>0</td>\n",
       "      <td>NC3</td>\n",
       "    </tr>\n",
       "    <tr>\n",
       "      <th>1</th>\n",
       "      <td>Team A</td>\n",
       "      <td>-0.8</td>\n",
       "      <td>1.2</td>\n",
       "      <td>1</td>\n",
       "      <td>2PT</td>\n",
       "    </tr>\n",
       "    <tr>\n",
       "      <th>2</th>\n",
       "      <td>Team A</td>\n",
       "      <td>-13.9</td>\n",
       "      <td>9.5</td>\n",
       "      <td>1</td>\n",
       "      <td>2PT</td>\n",
       "    </tr>\n",
       "    <tr>\n",
       "      <th>3</th>\n",
       "      <td>Team A</td>\n",
       "      <td>-5.4</td>\n",
       "      <td>26.2</td>\n",
       "      <td>0</td>\n",
       "      <td>NC3</td>\n",
       "    </tr>\n",
       "    <tr>\n",
       "      <th>4</th>\n",
       "      <td>Team A</td>\n",
       "      <td>-4.9</td>\n",
       "      <td>14.5</td>\n",
       "      <td>1</td>\n",
       "      <td>2PT</td>\n",
       "    </tr>\n",
       "  </tbody>\n",
       "</table>\n",
       "</div>"
      ],
      "text/plain": [
       "     team     x     y  fgmade   SD\n",
       "0  Team A  -5.0  26.4       0  NC3\n",
       "1  Team A  -0.8   1.2       1  2PT\n",
       "2  Team A -13.9   9.5       1  2PT\n",
       "3  Team A  -5.4  26.2       0  NC3\n",
       "4  Team A  -4.9  14.5       1  2PT"
      ]
     },
     "execution_count": 4,
     "metadata": {},
     "output_type": "execute_result"
    }
   ],
   "source": [
    "df.head()"
   ]
  },
  {
   "cell_type": "code",
   "execution_count": 5,
   "id": "1c3d7b6d-5fe0-4051-a52a-e45eeff7f57a",
   "metadata": {},
   "outputs": [],
   "source": [
    "A = df[df.team == \"Team A\"]\n",
    "B = df[df[\"team\"] == \"Team B\"]"
   ]
  },
  {
   "cell_type": "code",
   "execution_count": 6,
   "id": "d03a70d8",
   "metadata": {},
   "outputs": [
    {
     "data": {
      "text/html": [
       "<div>\n",
       "<style scoped>\n",
       "    .dataframe tbody tr th:only-of-type {\n",
       "        vertical-align: middle;\n",
       "    }\n",
       "\n",
       "    .dataframe tbody tr th {\n",
       "        vertical-align: top;\n",
       "    }\n",
       "\n",
       "    .dataframe thead th {\n",
       "        text-align: right;\n",
       "    }\n",
       "</style>\n",
       "<table border=\"1\" class=\"dataframe\">\n",
       "  <thead>\n",
       "    <tr style=\"text-align: right;\">\n",
       "      <th></th>\n",
       "      <th>team</th>\n",
       "      <th>x</th>\n",
       "      <th>y</th>\n",
       "      <th>fgmade</th>\n",
       "      <th>SD</th>\n",
       "    </tr>\n",
       "  </thead>\n",
       "  <tbody>\n",
       "    <tr>\n",
       "      <th>0</th>\n",
       "      <td>Team A</td>\n",
       "      <td>-5.0</td>\n",
       "      <td>26.4</td>\n",
       "      <td>0</td>\n",
       "      <td>NC3</td>\n",
       "    </tr>\n",
       "    <tr>\n",
       "      <th>1</th>\n",
       "      <td>Team A</td>\n",
       "      <td>-0.8</td>\n",
       "      <td>1.2</td>\n",
       "      <td>1</td>\n",
       "      <td>2PT</td>\n",
       "    </tr>\n",
       "    <tr>\n",
       "      <th>2</th>\n",
       "      <td>Team A</td>\n",
       "      <td>-13.9</td>\n",
       "      <td>9.5</td>\n",
       "      <td>1</td>\n",
       "      <td>2PT</td>\n",
       "    </tr>\n",
       "    <tr>\n",
       "      <th>3</th>\n",
       "      <td>Team A</td>\n",
       "      <td>-5.4</td>\n",
       "      <td>26.2</td>\n",
       "      <td>0</td>\n",
       "      <td>NC3</td>\n",
       "    </tr>\n",
       "    <tr>\n",
       "      <th>4</th>\n",
       "      <td>Team A</td>\n",
       "      <td>-4.9</td>\n",
       "      <td>14.5</td>\n",
       "      <td>1</td>\n",
       "      <td>2PT</td>\n",
       "    </tr>\n",
       "  </tbody>\n",
       "</table>\n",
       "</div>"
      ],
      "text/plain": [
       "     team     x     y  fgmade   SD\n",
       "0  Team A  -5.0  26.4       0  NC3\n",
       "1  Team A  -0.8   1.2       1  2PT\n",
       "2  Team A -13.9   9.5       1  2PT\n",
       "3  Team A  -5.4  26.2       0  NC3\n",
       "4  Team A  -4.9  14.5       1  2PT"
      ]
     },
     "execution_count": 6,
     "metadata": {},
     "output_type": "execute_result"
    }
   ],
   "source": [
    "A.head()"
   ]
  },
  {
   "cell_type": "code",
   "execution_count": 7,
   "id": "4ce6099f",
   "metadata": {},
   "outputs": [
    {
     "data": {
      "text/html": [
       "<div>\n",
       "<style scoped>\n",
       "    .dataframe tbody tr th:only-of-type {\n",
       "        vertical-align: middle;\n",
       "    }\n",
       "\n",
       "    .dataframe tbody tr th {\n",
       "        vertical-align: top;\n",
       "    }\n",
       "\n",
       "    .dataframe thead th {\n",
       "        text-align: right;\n",
       "    }\n",
       "</style>\n",
       "<table border=\"1\" class=\"dataframe\">\n",
       "  <thead>\n",
       "    <tr style=\"text-align: right;\">\n",
       "      <th></th>\n",
       "      <th>team</th>\n",
       "      <th>x</th>\n",
       "      <th>y</th>\n",
       "      <th>fgmade</th>\n",
       "      <th>SD</th>\n",
       "    </tr>\n",
       "  </thead>\n",
       "  <tbody>\n",
       "    <tr>\n",
       "      <th>280</th>\n",
       "      <td>Team B</td>\n",
       "      <td>-2.9</td>\n",
       "      <td>16.7</td>\n",
       "      <td>0</td>\n",
       "      <td>2PT</td>\n",
       "    </tr>\n",
       "    <tr>\n",
       "      <th>281</th>\n",
       "      <td>Team B</td>\n",
       "      <td>10.3</td>\n",
       "      <td>24.7</td>\n",
       "      <td>0</td>\n",
       "      <td>NC3</td>\n",
       "    </tr>\n",
       "    <tr>\n",
       "      <th>282</th>\n",
       "      <td>Team B</td>\n",
       "      <td>-3.5</td>\n",
       "      <td>5.3</td>\n",
       "      <td>1</td>\n",
       "      <td>2PT</td>\n",
       "    </tr>\n",
       "    <tr>\n",
       "      <th>283</th>\n",
       "      <td>Team B</td>\n",
       "      <td>0.9</td>\n",
       "      <td>1.5</td>\n",
       "      <td>0</td>\n",
       "      <td>2PT</td>\n",
       "    </tr>\n",
       "    <tr>\n",
       "      <th>284</th>\n",
       "      <td>Team B</td>\n",
       "      <td>22.8</td>\n",
       "      <td>-1.5</td>\n",
       "      <td>0</td>\n",
       "      <td>C3</td>\n",
       "    </tr>\n",
       "  </tbody>\n",
       "</table>\n",
       "</div>"
      ],
      "text/plain": [
       "       team     x     y  fgmade   SD\n",
       "280  Team B  -2.9  16.7       0  2PT\n",
       "281  Team B  10.3  24.7       0  NC3\n",
       "282  Team B  -3.5   5.3       1  2PT\n",
       "283  Team B   0.9   1.5       0  2PT\n",
       "284  Team B  22.8  -1.5       0   C3"
      ]
     },
     "execution_count": 7,
     "metadata": {},
     "output_type": "execute_result"
    }
   ],
   "source": [
    "B.head()"
   ]
  },
  {
   "cell_type": "code",
   "execution_count": 8,
   "id": "1436e545",
   "metadata": {},
   "outputs": [
    {
     "data": {
      "text/plain": [
       "280"
      ]
     },
     "execution_count": 8,
     "metadata": {},
     "output_type": "execute_result"
    }
   ],
   "source": [
    "A.shape[0]"
   ]
  },
  {
   "cell_type": "code",
   "execution_count": 9,
   "id": "2e9fd0fa",
   "metadata": {},
   "outputs": [
    {
     "data": {
      "text/plain": [
       "224"
      ]
     },
     "execution_count": 9,
     "metadata": {},
     "output_type": "execute_result"
    }
   ],
   "source": [
    "B.shape[0]"
   ]
  },
  {
   "cell_type": "code",
   "execution_count": 10,
   "id": "8875203d",
   "metadata": {},
   "outputs": [
    {
     "data": {
      "text/plain": [
       "2PT    194\n",
       "NC3     68\n",
       "C3      18\n",
       "Name: SD, dtype: int64"
      ]
     },
     "execution_count": 10,
     "metadata": {},
     "output_type": "execute_result"
    }
   ],
   "source": [
    "A_dist = A['SD'].value_counts()\n",
    "A_dist"
   ]
  },
  {
   "cell_type": "code",
   "execution_count": 11,
   "id": "2a0cf13d",
   "metadata": {},
   "outputs": [
    {
     "data": {
      "text/plain": [
       "2PT    151\n",
       "NC3     62\n",
       "C3      11\n",
       "Name: SD, dtype: int64"
      ]
     },
     "execution_count": 11,
     "metadata": {},
     "output_type": "execute_result"
    }
   ],
   "source": [
    "B_dist = B['SD'].value_counts()\n",
    "B_dist"
   ]
  },
  {
   "cell_type": "code",
   "execution_count": 12,
   "id": "4f0948ca-9a1e-44b3-bb54-c2a277a25375",
   "metadata": {},
   "outputs": [
    {
     "name": "stdout",
     "output_type": "stream",
     "text": [
      "fraction of A of 2PT 0.6928571428571428\n",
      "fraction of A of C3 0.06428571428571428\n",
      "fraction of A of NC3 0.24285714285714285\n"
     ]
    }
   ],
   "source": [
    "A_2PT = A_dist[\"2PT\"] /A.shape[0]\n",
    "A_C3 = A_dist[\"C3\"] /A.shape[0]\n",
    "A_NC3 = A_dist[\"NC3\"] / A.shape[0]\n",
    "print (\"fraction of A of 2PT\",  A_2PT)\n",
    "print (\"fraction of A of C3\", A_C3)\n",
    "print (\"fraction of A of NC3\", A_NC3)"
   ]
  },
  {
   "cell_type": "code",
   "execution_count": 13,
   "id": "18be6cd3",
   "metadata": {},
   "outputs": [
    {
     "name": "stdout",
     "output_type": "stream",
     "text": [
      "fraction of B of 2PT 0.6741071428571429\n",
      "fraction of B of C3 0.049107142857142856\n",
      "fraction of B of NC3 0.2767857142857143\n"
     ]
    }
   ],
   "source": [
    "B_2PT = B_dist[\"2PT\"] /B.shape[0]\n",
    "B_C3 = B_dist[\"C3\"] /B.shape[0]\n",
    "B_NC3 = B_dist[\"NC3\"] / B.shape[0]\n",
    "print (\"fraction of B of 2PT\",  B_2PT)\n",
    "print (\"fraction of B of C3\", B_C3)\n",
    "print (\"fraction of B of NC3\", B_NC3)"
   ]
  },
  {
   "cell_type": "code",
   "execution_count": 14,
   "id": "481dc3d0",
   "metadata": {},
   "outputs": [
    {
     "data": {
      "text/html": [
       "<div>\n",
       "<style scoped>\n",
       "    .dataframe tbody tr th:only-of-type {\n",
       "        vertical-align: middle;\n",
       "    }\n",
       "\n",
       "    .dataframe tbody tr th {\n",
       "        vertical-align: top;\n",
       "    }\n",
       "\n",
       "    .dataframe thead th {\n",
       "        text-align: right;\n",
       "    }\n",
       "</style>\n",
       "<table border=\"1\" class=\"dataframe\">\n",
       "  <thead>\n",
       "    <tr style=\"text-align: right;\">\n",
       "      <th></th>\n",
       "      <th>A Distribution</th>\n",
       "      <th>Percentage of Shots</th>\n",
       "    </tr>\n",
       "  </thead>\n",
       "  <tbody>\n",
       "    <tr>\n",
       "      <th>0</th>\n",
       "      <td>2P</td>\n",
       "      <td>69.286%</td>\n",
       "    </tr>\n",
       "    <tr>\n",
       "      <th>1</th>\n",
       "      <td>NC3</td>\n",
       "      <td>24.286%</td>\n",
       "    </tr>\n",
       "    <tr>\n",
       "      <th>2</th>\n",
       "      <td>C3</td>\n",
       "      <td>6.429%</td>\n",
       "    </tr>\n",
       "  </tbody>\n",
       "</table>\n",
       "</div>"
      ],
      "text/plain": [
       "  A Distribution Percentage of Shots\n",
       "0             2P             69.286%\n",
       "1            NC3             24.286%\n",
       "2             C3              6.429%"
      ]
     },
     "execution_count": 14,
     "metadata": {},
     "output_type": "execute_result"
    }
   ],
   "source": [
    "a ={'A Distribution': [\"2P\",\"NC3\", \"C3\"],\n",
    "   'Percentage of Shots': [f'{(A_2PT):.3%}', f'{(A_NC3):.3%}', f'{(A_C3):.3%}'] }\n",
    "dfa = pd.DataFrame(a)\n",
    "dfa"
   ]
  },
  {
   "cell_type": "code",
   "execution_count": 15,
   "id": "40ab850c-9ad6-4b81-8741-586c8aebca8d",
   "metadata": {},
   "outputs": [
    {
     "data": {
      "text/html": [
       "<div>\n",
       "<style scoped>\n",
       "    .dataframe tbody tr th:only-of-type {\n",
       "        vertical-align: middle;\n",
       "    }\n",
       "\n",
       "    .dataframe tbody tr th {\n",
       "        vertical-align: top;\n",
       "    }\n",
       "\n",
       "    .dataframe thead th {\n",
       "        text-align: right;\n",
       "    }\n",
       "</style>\n",
       "<table border=\"1\" class=\"dataframe\">\n",
       "  <thead>\n",
       "    <tr style=\"text-align: right;\">\n",
       "      <th></th>\n",
       "      <th>B Distribution</th>\n",
       "      <th>Percentage of Shots</th>\n",
       "    </tr>\n",
       "  </thead>\n",
       "  <tbody>\n",
       "    <tr>\n",
       "      <th>0</th>\n",
       "      <td>2P</td>\n",
       "      <td>67.411%</td>\n",
       "    </tr>\n",
       "    <tr>\n",
       "      <th>1</th>\n",
       "      <td>C3</td>\n",
       "      <td>4.911%</td>\n",
       "    </tr>\n",
       "    <tr>\n",
       "      <th>2</th>\n",
       "      <td>NC3</td>\n",
       "      <td>27.679%</td>\n",
       "    </tr>\n",
       "  </tbody>\n",
       "</table>\n",
       "</div>"
      ],
      "text/plain": [
       "  B Distribution Percentage of Shots\n",
       "0             2P             67.411%\n",
       "1             C3              4.911%\n",
       "2            NC3             27.679%"
      ]
     },
     "execution_count": 15,
     "metadata": {},
     "output_type": "execute_result"
    }
   ],
   "source": [
    "b = [['2P', f'{(B_2PT):.3%}'], ['C3', f'{(B_C3):.3%}'], ['NC3', f'{(B_NC3):.3%}']]\n",
    "dfb = pd.DataFrame(b, columns = ['B Distribution', 'Percentage of Shots'])\n",
    "dfb"
   ]
  },
  {
   "cell_type": "code",
   "execution_count": 16,
   "id": "7bcd9992-f46a-4ef0-b139-09bb8f516c81",
   "metadata": {},
   "outputs": [],
   "source": [
    "df_A_2PT = A[A['SD'] == '2PT']\n",
    "df_A_NC3 = A[A['SD'] == 'NC3']\n",
    "df_A_C3 = A[A['SD'] == 'C3']\n",
    "\n",
    "df_B_2PT = B[B['SD'] == '2PT']\n",
    "df_B_NC3 = B[B['SD'] == 'NC3']\n",
    "df_B_C3 = B[B['SD'] == 'C3']"
   ]
  },
  {
   "cell_type": "code",
   "execution_count": 17,
   "id": "d4c3f8e5-d1b7-49ef-8ed2-f9410de24812",
   "metadata": {},
   "outputs": [
    {
     "name": "stdout",
     "output_type": "stream",
     "text": [
      "FGA - A - 2PT - 194\n",
      "FGA - A - NC3 - 68\n",
      "FGA - A - C3 - 18\n"
     ]
    }
   ],
   "source": [
    "A_FGA_2PT = df_A_2PT.shape[0]\n",
    "A_FGA_NC3 = df_A_NC3.shape[0]\n",
    "A_FGA_C3 = df_A_C3.shape[0]\n",
    "print ('FGA - A - 2PT -', A_FGA_2PT)\n",
    "print ('FGA - A - NC3 -', A_FGA_NC3)\n",
    "print ('FGA - A - C3 -', A_FGA_C3)"
   ]
  },
  {
   "cell_type": "code",
   "execution_count": 18,
   "id": "f3923c55",
   "metadata": {},
   "outputs": [
    {
     "name": "stdout",
     "output_type": "stream",
     "text": [
      "FGA - B - 2PT - 151\n",
      "FGA - B - NC3 - 62\n",
      "FGA - B - C3 - 11\n"
     ]
    }
   ],
   "source": [
    "B_FGA_2PT = df_B_2PT.shape[0]\n",
    "B_FGA_NC3 = df_B_NC3.shape[0]\n",
    "B_FGA_C3 = df_B_C3.shape[0]\n",
    "print ('FGA - B - 2PT -', B_FGA_2PT)\n",
    "print ('FGA - B - NC3 -', B_FGA_NC3)\n",
    "print ('FGA - B - C3 -', B_FGA_C3)"
   ]
  },
  {
   "cell_type": "code",
   "execution_count": 19,
   "id": "2dcaf58c-3db5-43a5-a485-f27cbe0288cb",
   "metadata": {},
   "outputs": [],
   "source": [
    "A_ = A['fgmade'].value_counts()\n",
    "A_2PT = df_A_2PT['fgmade'].value_counts()\n",
    "A_NC3 = df_A_NC3['fgmade'].value_counts()\n",
    "A_C3 = df_A_C3['fgmade'].value_counts()\n",
    "B_ = B['fgmade'].value_counts()\n",
    "B_2PT = df_B_2PT['fgmade'].value_counts()\n",
    "B_NC3 = df_B_NC3['fgmade'].value_counts()\n",
    "B_C3 = df_B_C3['fgmade'].value_counts()"
   ]
  },
  {
   "cell_type": "code",
   "execution_count": 20,
   "id": "73c04408",
   "metadata": {},
   "outputs": [
    {
     "name": "stdout",
     "output_type": "stream",
     "text": [
      "Total (0 = Miss, 1 = Make):\n",
      "All Zone\n",
      "A:\n",
      "0    155\n",
      "1    125\n",
      "Name: fgmade, dtype: int64\n",
      "B:\n",
      "0    132\n",
      "1     92\n",
      "Name: fgmade, dtype: int64\n"
     ]
    }
   ],
   "source": [
    "print ('Total (0 = Miss, 1 = Make):')\n",
    "print (\"All Zone\")\n",
    "print(\"A:\")\n",
    "print(A_)\n",
    "print(\"B:\")\n",
    "print(B_)"
   ]
  },
  {
   "cell_type": "code",
   "execution_count": 21,
   "id": "b687f9ae",
   "metadata": {},
   "outputs": [
    {
     "name": "stdout",
     "output_type": "stream",
     "text": [
      "2PT Zone\n",
      "A:\n",
      "0    99\n",
      "1    95\n",
      "Name: fgmade, dtype: int64\n",
      "B:\n",
      "0    84\n",
      "1    67\n",
      "Name: fgmade, dtype: int64\n"
     ]
    }
   ],
   "source": [
    "print (\"2PT Zone\")\n",
    "print(\"A:\")\n",
    "print(A_2PT)\n",
    "print(\"B:\")\n",
    "print(B_2PT)"
   ]
  },
  {
   "cell_type": "code",
   "execution_count": 22,
   "id": "ea33cf7d",
   "metadata": {},
   "outputs": [
    {
     "name": "stdout",
     "output_type": "stream",
     "text": [
      "NC3 Zone\n",
      "A:\n",
      "0    47\n",
      "1    21\n",
      "Name: fgmade, dtype: int64\n",
      "B:\n",
      "0    41\n",
      "1    21\n",
      "Name: fgmade, dtype: int64\n"
     ]
    }
   ],
   "source": [
    "print (\"NC3 Zone\")\n",
    "print(\"A:\")\n",
    "print(A_NC3)\n",
    "print(\"B:\")\n",
    "print(B_NC3)"
   ]
  },
  {
   "cell_type": "code",
   "execution_count": 23,
   "id": "f4781300",
   "metadata": {},
   "outputs": [
    {
     "name": "stdout",
     "output_type": "stream",
     "text": [
      "C3 Zone\n",
      "A:\n",
      "0    9\n",
      "1    9\n",
      "Name: fgmade, dtype: int64\n",
      "B:\n",
      "0    7\n",
      "1    4\n",
      "Name: fgmade, dtype: int64\n"
     ]
    }
   ],
   "source": [
    "print (\"C3 Zone\")\n",
    "print(\"A:\")\n",
    "print(A_C3)\n",
    "print(\"B:\")\n",
    "print(B_C3)"
   ]
  },
  {
   "cell_type": "code",
   "execution_count": 24,
   "id": "e9c932c9",
   "metadata": {},
   "outputs": [
    {
     "data": {
      "text/plain": [
       "125"
      ]
     },
     "execution_count": 24,
     "metadata": {},
     "output_type": "execute_result"
    }
   ],
   "source": [
    "A_[1]"
   ]
  },
  {
   "cell_type": "code",
   "execution_count": 25,
   "id": "ef546c04",
   "metadata": {},
   "outputs": [
    {
     "data": {
      "text/plain": [
       "92"
      ]
     },
     "execution_count": 25,
     "metadata": {},
     "output_type": "execute_result"
    }
   ],
   "source": [
    "B_[1]"
   ]
  },
  {
   "cell_type": "code",
   "execution_count": 26,
   "id": "71fcd0d2-5615-4753-8b39-553feb409359",
   "metadata": {},
   "outputs": [
    {
     "name": "stdout",
     "output_type": "stream",
     "text": [
      "Team A : 125\n",
      "2PT Zone: 95\n",
      "NC3 Zone: 21\n",
      "C3 Zone: 9\n"
     ]
    }
   ],
   "source": [
    "A_FGM_2PT = A_2PT[1]\n",
    "A_FGM_NC3 = A_NC3[1]\n",
    "A_FGM_C3 = A_C3[1]\n",
    "print(\"Team A :\", A_[1])\n",
    "print(\"2PT Zone:\", A_FGM_2PT)\n",
    "print(\"NC3 Zone:\", A_FGM_NC3)\n",
    "print(\"C3 Zone:\", A_FGM_C3)"
   ]
  },
  {
   "cell_type": "code",
   "execution_count": 27,
   "id": "2f73acdd",
   "metadata": {},
   "outputs": [
    {
     "name": "stdout",
     "output_type": "stream",
     "text": [
      "Team B : 92\n",
      "2PT Zone: 67\n",
      "NC3 Zone: 21\n",
      "C3 Zone: 4\n"
     ]
    }
   ],
   "source": [
    "B_FGM_2PT = B_2PT[1]\n",
    "B_FGM_NC3 = B_NC3[1]\n",
    "B_FGM_C3 = B_C3[1]\n",
    "print(\"Team B :\", B_[1])\n",
    "print(\"2PT Zone:\", B_FGM_2PT)\n",
    "print(\"NC3 Zone:\", B_FGM_NC3)\n",
    "print(\"C3 Zone:\", B_FGM_C3)"
   ]
  },
  {
   "cell_type": "code",
   "execution_count": 28,
   "id": "d6e64f08-a02a-4c5e-b314-75b028dad3da",
   "metadata": {},
   "outputs": [],
   "source": [
    "A_3 = A[(A['fgmade'] == 1) & ((A['SD'] == \"C3\") | (A['SD'] == \"NC3\"))]\n",
    "B_3 = B[(B['fgmade'] == 1) & ((B['SD'] == \"C3\") | (B['SD'] == \"NC3\"))]\n",
    "\n",
    "A_3PM = A_3.shape[0]\n",
    "A_3PM_NC3 = A_3[A_3['SD'] == \"NC3\"].shape[0]\n",
    "A_3PM_C3 = A_3[A_3['SD'] == \"C3\"].shape[0]\n",
    "A_3PM_2PT = A_3[A_3['SD'] == \"2PT\"].shape[0]"
   ]
  },
  {
   "cell_type": "code",
   "execution_count": 29,
   "id": "8e508701",
   "metadata": {},
   "outputs": [
    {
     "name": "stdout",
     "output_type": "stream",
     "text": [
      "Team A : 3pt Made\n",
      "30\n"
     ]
    }
   ],
   "source": [
    "print(\"Team A : 3pt Made\")\n",
    "print(A_3PM)"
   ]
  },
  {
   "cell_type": "code",
   "execution_count": 30,
   "id": "809b37e2",
   "metadata": {},
   "outputs": [
    {
     "name": "stdout",
     "output_type": "stream",
     "text": [
      "Team A : 3pt Made(2PT Zone)\n",
      "0\n"
     ]
    }
   ],
   "source": [
    "print(\"Team A : 3pt Made(2PT Zone)\")\n",
    "print(A_3PM_2PT)"
   ]
  },
  {
   "cell_type": "code",
   "execution_count": 31,
   "id": "05d42225",
   "metadata": {},
   "outputs": [
    {
     "name": "stdout",
     "output_type": "stream",
     "text": [
      "Team A : 3pt Made(NC3 Zone)\n",
      "21\n"
     ]
    }
   ],
   "source": [
    "print(\"Team A : 3pt Made(NC3 Zone)\")\n",
    "print(A_3PM_NC3)"
   ]
  },
  {
   "cell_type": "code",
   "execution_count": 32,
   "id": "1e70b426",
   "metadata": {},
   "outputs": [
    {
     "name": "stdout",
     "output_type": "stream",
     "text": [
      "Team A : 3pt Made(C3 Zone)\n",
      "9\n"
     ]
    }
   ],
   "source": [
    "print(\"Team A : 3pt Made(C3 Zone)\")\n",
    "print(A_3PM_C3)"
   ]
  },
  {
   "cell_type": "code",
   "execution_count": 33,
   "id": "54bb6785",
   "metadata": {},
   "outputs": [],
   "source": [
    "B_3PM = B_3.shape[0]\n",
    "B_3PM_NC3 = B_3[B_3['SD'] == \"NC3\"].shape[0]\n",
    "B_3PM_C3 = B_3[B_3['SD'] == \"C3\"].shape[0]\n",
    "B_3PM_2PT = B_3[B_3['SD'] == \"2PT\"].shape[0]"
   ]
  },
  {
   "cell_type": "code",
   "execution_count": 34,
   "id": "18a1d29d",
   "metadata": {},
   "outputs": [
    {
     "name": "stdout",
     "output_type": "stream",
     "text": [
      "Team B : 3pt Made\n",
      "25\n"
     ]
    }
   ],
   "source": [
    "print(\"Team B : 3pt Made\")\n",
    "print(B_3PM)"
   ]
  },
  {
   "cell_type": "code",
   "execution_count": 35,
   "id": "372fac91",
   "metadata": {},
   "outputs": [
    {
     "name": "stdout",
     "output_type": "stream",
     "text": [
      "2PT Zone\n",
      "0\n"
     ]
    }
   ],
   "source": [
    "print(\"2PT Zone\")\n",
    "print(B_3PM_2PT)"
   ]
  },
  {
   "cell_type": "code",
   "execution_count": 36,
   "id": "c07f23b7",
   "metadata": {},
   "outputs": [
    {
     "name": "stdout",
     "output_type": "stream",
     "text": [
      "NC3 Zone\n",
      "21\n"
     ]
    }
   ],
   "source": [
    "print(\"NC3 Zone\")\n",
    "print(B_3PM_NC3)"
   ]
  },
  {
   "cell_type": "code",
   "execution_count": 37,
   "id": "f08a74d3",
   "metadata": {},
   "outputs": [
    {
     "name": "stdout",
     "output_type": "stream",
     "text": [
      "C3 Zone\n",
      "4\n"
     ]
    }
   ],
   "source": [
    "print(\"C3 Zone\")\n",
    "print(B_3PM_C3)"
   ]
  },
  {
   "cell_type": "code",
   "execution_count": 38,
   "id": "0af22281",
   "metadata": {},
   "outputs": [],
   "source": [
    "e_a = (A_[1] + ((0.5*A_3PM))) / A.shape[0]\n",
    "e_a_2PT = (A_FGM_2PT + ((0.5*A_3PM_2PT))) / A_FGA_2PT\n",
    "e_a_NC3 = (A_FGM_NC3 + ((0.5*A_3PM_NC3))) / A_FGA_NC3\n",
    "e_a_C3 = (A_FGM_C3 + ((0.5*A_3PM_C3))) / A_FGA_C3\n"
   ]
  },
  {
   "cell_type": "code",
   "execution_count": 39,
   "id": "0309eca0",
   "metadata": {},
   "outputs": [],
   "source": [
    "e_b = (B_[1] + ((0.5*B_3PM))) / B.shape[0]\n",
    "e_b_2PT = (B_FGM_2PT + ((0.5*B_3PM_2PT))) / B_FGA_2PT\n",
    "e_b_NC3 = (B_FGM_NC3 + ((0.5*B_3PM_NC3))) / B_FGA_NC3\n",
    "e_b_C3 = (B_FGM_C3 + ((0.5*B_3PM_C3))) / B_FGA_C3"
   ]
  },
  {
   "cell_type": "code",
   "execution_count": 40,
   "id": "af0d76cc",
   "metadata": {},
   "outputs": [
    {
     "name": "stdout",
     "output_type": "stream",
     "text": [
      "A - All FG: 0.5\n",
      "A - 2PT FG: 0.4896907216494845\n",
      "A - NC3 FG: 0.4632352941176471\n",
      "A - C3 FG: 0.75\n"
     ]
    }
   ],
   "source": [
    "print (f'A - All FG: {e_a}')\n",
    "print (f'A - 2PT FG: {e_a_2PT}')\n",
    "print (f'A - NC3 FG: {e_a_NC3}')\n",
    "print (f'A - C3 FG: {e_a_C3}')"
   ]
  },
  {
   "cell_type": "code",
   "execution_count": 41,
   "id": "25f09450",
   "metadata": {},
   "outputs": [
    {
     "name": "stdout",
     "output_type": "stream",
     "text": [
      "B - All FG: 0.46651785714285715\n",
      "B - 2PT FG: 0.44370860927152317\n",
      "B - NC3 FG: 0.5080645161290323\n",
      "B - C3 FG: 0.5454545454545454\n"
     ]
    }
   ],
   "source": [
    "print (f'B - All FG: {e_b}')\n",
    "print (f'B - 2PT FG: {e_b_2PT}')\n",
    "print (f'B - NC3 FG: {e_b_NC3}')\n",
    "print ('B - C3 FG: {}'.format(e_b_C3))"
   ]
  },
  {
   "cell_type": "code",
   "execution_count": 42,
   "id": "ce785743",
   "metadata": {},
   "outputs": [
    {
     "data": {
      "text/html": [
       "<div>\n",
       "<style scoped>\n",
       "    .dataframe tbody tr th:only-of-type {\n",
       "        vertical-align: middle;\n",
       "    }\n",
       "\n",
       "    .dataframe tbody tr th {\n",
       "        vertical-align: top;\n",
       "    }\n",
       "\n",
       "    .dataframe thead th {\n",
       "        text-align: right;\n",
       "    }\n",
       "</style>\n",
       "<table border=\"1\" class=\"dataframe\">\n",
       "  <thead>\n",
       "    <tr style=\"text-align: right;\">\n",
       "      <th></th>\n",
       "      <th>Team</th>\n",
       "      <th>All FG</th>\n",
       "      <th>2PT FG</th>\n",
       "      <th>NC3 FG</th>\n",
       "      <th>C3 FG</th>\n",
       "    </tr>\n",
       "  </thead>\n",
       "  <tbody>\n",
       "    <tr>\n",
       "      <th>0</th>\n",
       "      <td>Team A</td>\n",
       "      <td>0.5</td>\n",
       "      <td>0.49</td>\n",
       "      <td>0.463</td>\n",
       "      <td>0.75</td>\n",
       "    </tr>\n",
       "    <tr>\n",
       "      <th>1</th>\n",
       "      <td>Team B</td>\n",
       "      <td>0.467</td>\n",
       "      <td>0.444</td>\n",
       "      <td>0.508</td>\n",
       "      <td>0.545</td>\n",
       "    </tr>\n",
       "  </tbody>\n",
       "</table>\n",
       "</div>"
      ],
      "text/plain": [
       "     Team All FG 2PT FG NC3 FG  C3 FG\n",
       "0  Team A    0.5   0.49  0.463   0.75\n",
       "1  Team B  0.467  0.444  0.508  0.545"
      ]
     },
     "execution_count": 42,
     "metadata": {},
     "output_type": "execute_result"
    }
   ],
   "source": [
    "data = [['Team A', f'{(round(e_a, 3))}', f'{(round(e_a_2PT, 3))}', f'{(round(e_a_NC3, 3))}', f'{(round(e_a_C3, 3))}'], \n",
    "        ['Team B', f'{(round(e_b, 3))}', f'{(round(e_b_2PT, 3))}', f'{(round(e_b_NC3, 3))}', f'{(round(e_b_C3, 3))}']]\n",
    "df2 = pd.DataFrame(data, columns = ['Team', 'All FG', '2PT FG', 'NC3 FG', 'C3 FG'])\n",
    "df2"
   ]
  },
  {
   "cell_type": "code",
   "execution_count": null,
   "id": "5cc52c36",
   "metadata": {},
   "outputs": [],
   "source": []
  }
 ],
 "metadata": {
  "kernelspec": {
   "display_name": "Python 3 (ipykernel)",
   "language": "python",
   "name": "python3"
  },
  "language_info": {
   "codemirror_mode": {
    "name": "ipython",
    "version": 3
   },
   "file_extension": ".py",
   "mimetype": "text/x-python",
   "name": "python",
   "nbconvert_exporter": "python",
   "pygments_lexer": "ipython3",
   "version": "3.9.13"
  }
 },
 "nbformat": 4,
 "nbformat_minor": 5
}
